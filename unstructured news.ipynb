{
 "cells": [
  {
   "cell_type": "code",
   "execution_count": 61,
   "metadata": {},
   "outputs": [
    {
     "data": {
      "text/plain": [
       "<Response [200]>"
      ]
     },
     "execution_count": 61,
     "metadata": {},
     "output_type": "execute_result"
    }
   ],
   "source": [
    "from bs4 import BeautifulSoup\n",
    "import requests\n",
    "page = requests.get(\"https://www.usatoday.com/news/weather/\")\n",
    "page"
   ]
  },
  {
   "cell_type": "code",
   "execution_count": 62,
   "metadata": {},
   "outputs": [
    {
     "name": "stdout",
     "output_type": "stream",
     "text": [
      "<span class=\"hgpm-list-wrap js-list-wrap\">\n",
      " <span class=\"hgpm-list-image-wrap\">\n",
      "  <img class=\"hgpm-list-image js-asset-image\" data-crop=\"16_9\" data-src=\"https://www.gannett-cdn.com/presto/2019/08/05/USAT/b803ed28-bd1a-4737-b03f-ac87ea3d8e7e-new-england-foliage.jpg?crop=2120,1193,x1,y95&amp;width=140&amp;height=80&amp;fit=bounds\" height=\"80\" itemprop=\"thumbnailUrl\" width=\"140\"/>\n",
      "  <span class=\"hgpm-image-text-hed-icon js-asset-disposable\">\n",
      "  </span>\n",
      " </span>\n",
      " <span class=\"hgpm-list-text\">\n",
      "  <span class=\"hgpm-list-hed js-asset-headline placeholder-bg\" itemprop=\"headline\">\n",
      "   Finally! The first day of fall is Monday\n",
      "  </span>\n",
      "  <span class=\"hgpm-back-listview-text js-asset-description placeholder-bg\" data-fulltext=\"Put away the flip-flops and break out the leggings: The first day of fall is Sept. 23, 2019. But don't turn the clocks back quite yet.\">\n",
      "   Put away the flip-flops and break out the leggings: The first day of fall is Sept. 23, 2019. But don't turn the clocks back quite yet.\n",
      "  </span>\n",
      "  <ul class=\"hgpm-meta\">\n",
      "   <li class=\"hgpm-section\" itemprop=\"articleSection\">\n",
      "    <span class=\"js-asset-section theme-bg-ssts-label hgpm-ssts-label-listview placeholder-bg news-theme-color default-theme-color\">\n",
      "     Nation\n",
      "    </span>\n",
      "   </li>\n",
      "   <li class=\"hgpm-time placeholder-bg\">\n",
      "    <span class=\"js-asset-timestamp\" itemprop=\"datePublished\">\n",
      "     1 day, 19 hours ago\n",
      "    </span>\n",
      "   </li>\n",
      "  </ul>\n",
      " </span>\n",
      "</span>\n"
     ]
    }
   ],
   "source": [
    "soup = BeautifulSoup(page.content, 'html.parser')\n",
    "all_news = soup.find('div',class_='headline-collection clearfix')\n",
    "news_box = all_news.find_all(class_=\"hgpm-list-wrap js-list-wrap\")\n",
    "news = news_box[0]\n",
    "print(news.prettify())"
   ]
  },
  {
   "cell_type": "code",
   "execution_count": 12,
   "metadata": {},
   "outputs": [
    {
     "name": "stdout",
     "output_type": "stream",
     "text": [
      "Finally! The first day of fall is Monday\n",
      "Put away the flip-flops and break out the leggings: The first day of fall is Sept. 23, 2019. But don't turn the clocks back quite yet.\n",
      "Nation\n",
      "\n",
      "1 day, 15 hours ago\n"
     ]
    }
   ],
   "source": [
    "title = news.find(class_=\"hgpm-list-hed js-asset-headline placeholder-bg\").get_text()\n",
    "desc = news.find(class_=\"hgpm-back-listview-text js-asset-description placeholder-bg\").get_text()\n",
    "tag = news.find(class_=\"js-asset-section theme-bg-ssts-label hgpm-ssts-label-listview placeholder-bg news-theme-color default-theme-color\").get_text()\n",
    "timestamp = news.find(class_=\"js-asset-timestamp\").get_text()\n",
    "print(title)\n",
    "print(desc)\n",
    "print(tag)\n",
    "print(timestamp)"
   ]
  },
  {
   "cell_type": "code",
   "execution_count": 54,
   "metadata": {},
   "outputs": [
    {
     "data": {
      "text/plain": [
       "27"
      ]
     },
     "execution_count": 54,
     "metadata": {},
     "output_type": "execute_result"
    }
   ],
   "source": [
    "title_list = all_news.find_all(class_=\"hgpm-list-hed js-asset-headline placeholder-bg\")\n",
    "titles = [tt.get_text() for tt in title_list]\n",
    "titles"
   ]
  },
  {
   "cell_type": "code",
   "execution_count": 53,
   "metadata": {},
   "outputs": [
    {
     "data": {
      "text/plain": [
       "27"
      ]
     },
     "execution_count": 53,
     "metadata": {},
     "output_type": "execute_result"
    }
   ],
   "source": [
    "desc_list = all_news.find_all(class_=\"hgpm-back-listview-text js-asset-description placeholder-bg\")\n",
    "des = [de.get_text() for de in desc_list]\n",
    "des"
   ]
  },
  {
   "cell_type": "code",
   "execution_count": 60,
   "metadata": {},
   "outputs": [
    {
     "data": {
      "text/plain": [
       "['Nation',\n",
       " 'Weather',\n",
       " 'Weather',\n",
       " 'Weather',\n",
       " 'Nation',\n",
       " 'Weather',\n",
       " 'Nation',\n",
       " 'Weather',\n",
       " 'Nation',\n",
       " 'Nation',\n",
       " 'Nation',\n",
       " 'Nation',\n",
       " 'Weather',\n",
       " 'Weather',\n",
       " 'Weather',\n",
       " 'Weather',\n",
       " 'Nation',\n",
       " 'World',\n",
       " 'Weather',\n",
       " 'Weather',\n",
       " 'Weather',\n",
       " 'Weather',\n",
       " 'Weather',\n",
       " 'Weather',\n",
       " 'Weather',\n",
       " 'Nation']"
      ]
     },
     "execution_count": 60,
     "metadata": {},
     "output_type": "execute_result"
    }
   ],
   "source": [
    "tag_list = all_news.find_all(class_=\"js-asset-section theme-bg-ssts-label hgpm-ssts-label-listview placeholder-bg news-theme-color default-theme-color\")\n",
    "tags = []\n",
    "for taging in tag_list:\n",
    "    tagspacing = taging.get_text().replace(u'\\n', u'')\n",
    "    tags.append(tagspacing)\n",
    "tags"
   ]
  },
  {
   "cell_type": "code",
   "execution_count": 51,
   "metadata": {},
   "outputs": [
    {
     "data": {
      "text/plain": [
       "27"
      ]
     },
     "execution_count": 51,
     "metadata": {},
     "output_type": "execute_result"
    }
   ],
   "source": [
    "timestamp_list = all_news.find_all(class_=\"js-asset-timestamp\")\n",
    "timestamps = []\n",
    "for time in timestamp_list:\n",
    "    timespacing = time.get_text().replace(u'\\xa0', u' ')\n",
    "    timestamps.append(timespacing)\n",
    "timestamps"
   ]
  },
  {
   "cell_type": "code",
   "execution_count": 55,
   "metadata": {},
   "outputs": [
    {
     "data": {
      "text/html": [
       "<div>\n",
       "<style scoped>\n",
       "    .dataframe tbody tr th:only-of-type {\n",
       "        vertical-align: middle;\n",
       "    }\n",
       "\n",
       "    .dataframe tbody tr th {\n",
       "        vertical-align: top;\n",
       "    }\n",
       "\n",
       "    .dataframe thead th {\n",
       "        text-align: right;\n",
       "    }\n",
       "</style>\n",
       "<table border=\"1\" class=\"dataframe\">\n",
       "  <thead>\n",
       "    <tr style=\"text-align: right;\">\n",
       "      <th></th>\n",
       "      <th>title</th>\n",
       "      <th>description</th>\n",
       "      <th>period</th>\n",
       "    </tr>\n",
       "  </thead>\n",
       "  <tbody>\n",
       "    <tr>\n",
       "      <th>0</th>\n",
       "      <td>Finally! The first day of fall is Monday</td>\n",
       "      <td>Put away the flip-flops and break out the legg...</td>\n",
       "      <td>1 day, 15 hours ago</td>\n",
       "    </tr>\n",
       "    <tr>\n",
       "      <th>1</th>\n",
       "      <td>Kids saved during swift water rescue</td>\n",
       "      <td>Precinct 1 in Harris County, rescued two kids ...</td>\n",
       "      <td>1 day, 20 hours ago</td>\n",
       "    </tr>\n",
       "    <tr>\n",
       "      <th>2</th>\n",
       "      <td>Animals affected by Tropical Depression Imelda</td>\n",
       "      <td>East Texas faces days of heavy rains and flash...</td>\n",
       "      <td>2 days, 7 hours ago</td>\n",
       "    </tr>\n",
       "    <tr>\n",
       "      <th>3</th>\n",
       "      <td>Six tropical storms at once have set a record</td>\n",
       "      <td>September is the peak month for hurricane and ...</td>\n",
       "      <td>2 days, 9 hours ago</td>\n",
       "    </tr>\n",
       "    <tr>\n",
       "      <th>4</th>\n",
       "      <td>There are 29% fewer birds in North America tha...</td>\n",
       "      <td>North America has lost nearly 3 billion birds ...</td>\n",
       "      <td>2 days, 11 hours ago</td>\n",
       "    </tr>\n",
       "    <tr>\n",
       "      <th>5</th>\n",
       "      <td>Imelda producing flash floods in parts of Texas</td>\n",
       "      <td>Imelda produced heavy rain in parts of Texas. ...</td>\n",
       "      <td>2 days, 17 hours ago</td>\n",
       "    </tr>\n",
       "    <tr>\n",
       "      <th>6</th>\n",
       "      <td>Triple threat: Storms spin up near Texas, Bermuda</td>\n",
       "      <td>While Hurricane Humberto nears Bermuda, there'...</td>\n",
       "      <td>4 days, 6 hours ago</td>\n",
       "    </tr>\n",
       "    <tr>\n",
       "      <th>7</th>\n",
       "      <td>Late-summer snow coats California ski resort</td>\n",
       "      <td>Squawk Valley Ski Resort recorded video of sno...</td>\n",
       "      <td>4 days, 16 hours ago</td>\n",
       "    </tr>\n",
       "    <tr>\n",
       "      <th>8</th>\n",
       "      <td>We just had our hottest summer on record</td>\n",
       "      <td>The planet endured its second-warmest June thr...</td>\n",
       "      <td>5 days, 14 hours ago</td>\n",
       "    </tr>\n",
       "    <tr>\n",
       "      <th>9</th>\n",
       "      <td>Spooky! Why Friday the 13th's full moon is so ...</td>\n",
       "      <td>A stunning harvest moon will rise in the easte...</td>\n",
       "      <td>1 week, 1 day ago</td>\n",
       "    </tr>\n",
       "    <tr>\n",
       "      <th>10</th>\n",
       "      <td>Humberto could form in Atlantic this weekend</td>\n",
       "      <td>A tropical storm could soon spring to life in ...</td>\n",
       "      <td>1 week, 1 day ago</td>\n",
       "    </tr>\n",
       "    <tr>\n",
       "      <th>11</th>\n",
       "      <td>Tropical storm warnings issued in the Bahamas</td>\n",
       "      <td>Some models show the system that could become ...</td>\n",
       "      <td>1 week, 2 days ago</td>\n",
       "    </tr>\n",
       "    <tr>\n",
       "      <th>12</th>\n",
       "      <td>Water detected on potentially ‘habitable’ planet</td>\n",
       "      <td>For the first time, water vapor has been detec...</td>\n",
       "      <td>1 week, 3 days ago</td>\n",
       "    </tr>\n",
       "    <tr>\n",
       "      <th>13</th>\n",
       "      <td>Wedge tornado blasts Wyoming structure</td>\n",
       "      <td>AccuWeather's Reed Timmer came into contact wi...</td>\n",
       "      <td>1 week, 3 days ago</td>\n",
       "    </tr>\n",
       "    <tr>\n",
       "      <th>14</th>\n",
       "      <td>Dorian: Pets affected by the monster storm</td>\n",
       "      <td>As Hurricane Dorian continues its march along ...</td>\n",
       "      <td>1 week, 4 days ago</td>\n",
       "    </tr>\n",
       "    <tr>\n",
       "      <th>15</th>\n",
       "      <td>Dorian survivors: 'Please pray for us'</td>\n",
       "      <td>From decimated homes to planes in the street, ...</td>\n",
       "      <td>1 week, 5 days ago</td>\n",
       "    </tr>\n",
       "    <tr>\n",
       "      <th>16</th>\n",
       "      <td>2 more storms in the Atlantic forming after Do...</td>\n",
       "      <td>Hurricane Dorian left major destruction in its...</td>\n",
       "      <td>1 week, 5 days ago</td>\n",
       "    </tr>\n",
       "    <tr>\n",
       "      <th>17</th>\n",
       "      <td>Tropical trouble? Forecasters eye several syst...</td>\n",
       "      <td>Now that Hurricane Dorian has passed on, forec...</td>\n",
       "      <td>1 week, 5 days ago</td>\n",
       "    </tr>\n",
       "    <tr>\n",
       "      <th>18</th>\n",
       "      <td>Powerful typhoon kills 8 in Korean Peninsula</td>\n",
       "      <td>Typhoon Lingling was one of the most powerful ...</td>\n",
       "      <td>1 week, 5 days ago</td>\n",
       "    </tr>\n",
       "    <tr>\n",
       "      <th>19</th>\n",
       "      <td>Dorian blows over a crane in Nova Scotia</td>\n",
       "      <td>The United States’ National Hurricane Center r...</td>\n",
       "      <td>1 week, 6 days ago</td>\n",
       "    </tr>\n",
       "    <tr>\n",
       "      <th>20</th>\n",
       "      <td>Survivors: Dorian washed away our life in Bahamas</td>\n",
       "      <td>Hurricane Dorian washed washed away their live...</td>\n",
       "      <td>2 weeks ago</td>\n",
       "    </tr>\n",
       "    <tr>\n",
       "      <th>21</th>\n",
       "      <td>Hurricane Center watching 3 Atlantic systems</td>\n",
       "      <td>Dorian remains a hurricane; Tropical Storm Gab...</td>\n",
       "      <td>1 week, 5 days ago</td>\n",
       "    </tr>\n",
       "    <tr>\n",
       "      <th>22</th>\n",
       "      <td>Hurricane Dorian brushes by northeastern U.S.</td>\n",
       "      <td>The northeastern United States will avoid the ...</td>\n",
       "      <td>2 weeks ago</td>\n",
       "    </tr>\n",
       "    <tr>\n",
       "      <th>23</th>\n",
       "      <td>Dorian to hit coastal Northeast</td>\n",
       "      <td>Residents of the coastal Northeast are the nex...</td>\n",
       "      <td>2 weeks, 1 day ago</td>\n",
       "    </tr>\n",
       "    <tr>\n",
       "      <th>24</th>\n",
       "      <td>Trees drift in water as a result of Dorian</td>\n",
       "      <td>A man in South Carolina captured surreal foota...</td>\n",
       "      <td>2 weeks, 1 day ago</td>\n",
       "    </tr>\n",
       "    <tr>\n",
       "      <th>25</th>\n",
       "      <td>Dorian grazes Carolina coast, on track for Out...</td>\n",
       "      <td>CHARLESTON, S.C. (AP) — Hurricane Dorian sides...</td>\n",
       "      <td>2 weeks, 1 day ago</td>\n",
       "    </tr>\n",
       "    <tr>\n",
       "      <th>26</th>\n",
       "      <td>Category 1 Dorian threatens North Carolina coast</td>\n",
       "      <td>Hurricane Dorian approached North Carolina's O...</td>\n",
       "      <td>2 weeks, 1 day ago</td>\n",
       "    </tr>\n",
       "  </tbody>\n",
       "</table>\n",
       "</div>"
      ],
      "text/plain": [
       "                                                title  \\\n",
       "0            Finally! The first day of fall is Monday   \n",
       "1                Kids saved during swift water rescue   \n",
       "2      Animals affected by Tropical Depression Imelda   \n",
       "3       Six tropical storms at once have set a record   \n",
       "4   There are 29% fewer birds in North America tha...   \n",
       "5     Imelda producing flash floods in parts of Texas   \n",
       "6   Triple threat: Storms spin up near Texas, Bermuda   \n",
       "7        Late-summer snow coats California ski resort   \n",
       "8            We just had our hottest summer on record   \n",
       "9   Spooky! Why Friday the 13th's full moon is so ...   \n",
       "10       Humberto could form in Atlantic this weekend   \n",
       "11      Tropical storm warnings issued in the Bahamas   \n",
       "12   Water detected on potentially ‘habitable’ planet   \n",
       "13             Wedge tornado blasts Wyoming structure   \n",
       "14         Dorian: Pets affected by the monster storm   \n",
       "15             Dorian survivors: 'Please pray for us'   \n",
       "16  2 more storms in the Atlantic forming after Do...   \n",
       "17  Tropical trouble? Forecasters eye several syst...   \n",
       "18       Powerful typhoon kills 8 in Korean Peninsula   \n",
       "19           Dorian blows over a crane in Nova Scotia   \n",
       "20  Survivors: Dorian washed away our life in Bahamas   \n",
       "21       Hurricane Center watching 3 Atlantic systems   \n",
       "22      Hurricane Dorian brushes by northeastern U.S.   \n",
       "23                    Dorian to hit coastal Northeast   \n",
       "24         Trees drift in water as a result of Dorian   \n",
       "25  Dorian grazes Carolina coast, on track for Out...   \n",
       "26   Category 1 Dorian threatens North Carolina coast   \n",
       "\n",
       "                                          description                period  \n",
       "0   Put away the flip-flops and break out the legg...   1 day, 15 hours ago  \n",
       "1   Precinct 1 in Harris County, rescued two kids ...   1 day, 20 hours ago  \n",
       "2   East Texas faces days of heavy rains and flash...   2 days, 7 hours ago  \n",
       "3   September is the peak month for hurricane and ...   2 days, 9 hours ago  \n",
       "4   North America has lost nearly 3 billion birds ...  2 days, 11 hours ago  \n",
       "5   Imelda produced heavy rain in parts of Texas. ...  2 days, 17 hours ago  \n",
       "6   While Hurricane Humberto nears Bermuda, there'...   4 days, 6 hours ago  \n",
       "7   Squawk Valley Ski Resort recorded video of sno...  4 days, 16 hours ago  \n",
       "8   The planet endured its second-warmest June thr...  5 days, 14 hours ago  \n",
       "9   A stunning harvest moon will rise in the easte...     1 week, 1 day ago  \n",
       "10  A tropical storm could soon spring to life in ...     1 week, 1 day ago  \n",
       "11  Some models show the system that could become ...    1 week, 2 days ago  \n",
       "12  For the first time, water vapor has been detec...    1 week, 3 days ago  \n",
       "13  AccuWeather's Reed Timmer came into contact wi...    1 week, 3 days ago  \n",
       "14  As Hurricane Dorian continues its march along ...    1 week, 4 days ago  \n",
       "15  From decimated homes to planes in the street, ...    1 week, 5 days ago  \n",
       "16  Hurricane Dorian left major destruction in its...    1 week, 5 days ago  \n",
       "17  Now that Hurricane Dorian has passed on, forec...    1 week, 5 days ago  \n",
       "18  Typhoon Lingling was one of the most powerful ...    1 week, 5 days ago  \n",
       "19  The United States’ National Hurricane Center r...    1 week, 6 days ago  \n",
       "20  Hurricane Dorian washed washed away their live...           2 weeks ago  \n",
       "21  Dorian remains a hurricane; Tropical Storm Gab...    1 week, 5 days ago  \n",
       "22  The northeastern United States will avoid the ...           2 weeks ago  \n",
       "23  Residents of the coastal Northeast are the nex...    2 weeks, 1 day ago  \n",
       "24  A man in South Carolina captured surreal foota...    2 weeks, 1 day ago  \n",
       "25  CHARLESTON, S.C. (AP) — Hurricane Dorian sides...    2 weeks, 1 day ago  \n",
       "26  Hurricane Dorian approached North Carolina's O...    2 weeks, 1 day ago  "
      ]
     },
     "execution_count": 55,
     "metadata": {},
     "output_type": "execute_result"
    }
   ],
   "source": [
    "import pandas as pd\n",
    "weather_news = pd.DataFrame({\n",
    "    \"title\": titles,\n",
    "    \"description\": des,\n",
    "    \"period\":timestamps\n",
    "})\n",
    "weather_news"
   ]
  },
  {
   "cell_type": "code",
   "execution_count": null,
   "metadata": {},
   "outputs": [],
   "source": []
  }
 ],
 "metadata": {
  "kernelspec": {
   "display_name": "Python 3",
   "language": "python",
   "name": "python3"
  },
  "language_info": {
   "codemirror_mode": {
    "name": "ipython",
    "version": 3
   },
   "file_extension": ".py",
   "mimetype": "text/x-python",
   "name": "python",
   "nbconvert_exporter": "python",
   "pygments_lexer": "ipython3",
   "version": "3.7.1"
  }
 },
 "nbformat": 4,
 "nbformat_minor": 2
}
